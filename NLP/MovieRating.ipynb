{
 "cells": [
  {
   "cell_type": "code",
   "execution_count": 1,
   "metadata": {},
   "outputs": [],
   "source": []
  },
  {
   "cell_type": "markdown",
   "metadata": {},
   "source": [
    "\n",
    "NLTK\n",
    "\n",
    "\n",
    "\n",
    "\n",
    "\n",
    "\n"
   ]
  },
  {
   "cell_type": "code",
   "execution_count": 10,
   "metadata": {},
   "outputs": [],
   "source": [
    "from nltk.tokenize import RegexpTokenizer\n",
    "from nltk.stem.porter import PorterStemmer\n",
    "from nltk.corpus import stopwords\n",
    "import pandas as pd\n",
    "import sys\n",
    "\n",
    "tokenizer = RegexpTokenizer(r'\\w+')\n",
    "en_stopwords = set(stopwords.words('english'))\n",
    "ps = PorterStemmer()"
   ]
  },
  {
   "cell_type": "code",
   "execution_count": 28,
   "metadata": {},
   "outputs": [],
   "source": [
    "def getStemmedReview(review):\n",
    "    review = review.lower()\n",
    "    review = review.replace(\"<br /><br />\", \"\")\n",
    "    \n",
    "    tokens = tokenizer.tokenize(review)\n",
    "    new_tokens = [token for token in tokens if token not in en_stopwords]\n",
    "    cleaned_review = [ps.stem(token) for token in tokens]\n",
    "    cleaned_review = \" \".join(cleaned_review)\n",
    "    return cleaned_review\n",
    "#     print(cleaned_review)\n",
    "    \n",
    "def getStemmedDocument(inputFile, outputFile):\n",
    "    with open(outputFile, 'w', encoding= \"utf8\") as out:\n",
    "        with open(inputFile , encoding= \"utf8\") as f:\n",
    "            reviews = f.readlines()\n",
    "        for review in reviews:\n",
    "#             print(review)\n",
    "            cleaned_review = getStemmedReview(review)\n",
    "            out.write(cleaned_review)\n",
    "            \n",
    "    \n",
    "    out.close()\n",
    "    \n",
    "\n",
    "    \n",
    "    \n",
    "\n",
    "# Read command line arguments    \n",
    "# input_file = sys.argv[1]\n",
    "# output_file = sys.argv[2]\n",
    "# print(\"Yes\")\n",
    "# print(input_file)\n",
    "# print(output_file)\n",
    "\n",
    "\n",
    "        \n",
    "    \n",
    "        "
   ]
  },
  {
   "cell_type": "code",
   "execution_count": 29,
   "metadata": {},
   "outputs": [
    {
     "name": "stdout",
     "output_type": "stream",
     "text": [
      "mature intelligent and highly charged melodrama unbelivebly filmed in China in 1948. wei wei's stunning performance as the catylast in a love triangle is simply stunning if you have the oppurunity to see this magnificent film take it\n",
      "\n",
      "http://video.google.com/videoplay?docid=211772166650071408&hl=en Distribution was tried.<br /><br />We opted for mass appeal.<br /><br />We want the best possible viewing range so, we forgo profit and continue our manual labor jobs gladly to entertain you for working yours.<br /><br />View Texas tale, please write about it... If you like it or not, if you like Alex or not, if you like Stuie, Texas or Texas tale... Just write about it.<br /><br />Your opinion rules.\n",
      "\n",
      "Title: Opera (1987) Director: Dario Argento Cast: Cristina Masillach, Ian Charleson, Urbano Barberini, Daria Nicolodi Review: The only other Argento movie I had seen was Suspiria and that one blew me away with its style, colors and spooky story line. I next decided to go with Opera as I had been told it was one of his best. Man, I think I'm discovering what will ultimately be one of my favorite horror directors.<br /><br />Opera is about a young opera singer who gets her big break when the main star of a creepy modern opera take on Mc Beth gets hit by a car. Betty is the understudy so she gets to do the part herself. Too bad for her there's a psycho after her who makes her watch the brutal murders of her friends and co-workers.<br /><br />Wow, Id heard good things about this here flick, but I wasn't prepared for the level of greatness to which this film would take me. Yeah the movie has its shortcomings to which Ill get to later. But for the most part the movie blew me away.<br /><br />First off, this movie is not as filled with lots of colors as Suspiria. I was expecting it to be a bit like suspiria in that department, but no, to my surprise it had its own look and feel. The film is somehow devoid of color. It does have lots in colors in certain scenes (like the masterful kitchen/living room sequence) where Argento fills the screen with lush greens and blues, but for the most part the film has a grayish, black tone to it all through out and I liked that it had its own distinctive look.<br /><br />The real stars of this show are the incredibly well orchestrated death sequences. Wow. Every death scene was like a work of art. Beauty in destruction. These are not just your typical hack and slash death sequences, these deaths were carefully constructed to shock and get the most out of its situations. Loved every second of them, there's plenty of blood and mayhem here, but with style. Not gonna spoil em though.<br /><br />Then there's the direction. Man, there's some really original and beautiful shots on this one. I loved the inventive use of the camera on this one. You thought that Tarantinos shot in Kill Bill vol. 1 where we see the bullet coming out of the chamber of the gun was original? Well this is the movie he lifted it from! I honestly believe that Tarantino was heavily influenced by this specific movie with certain scenes in Kill Bill Vol. 1. Heck in the making of feature he mentions that the whole scene with Beatrix in the hospital and Elle Driver coming to kill her was influenced by Italian Giallos, and here my friends is the proof of that. Anyhows, Tarantino references aside, this movie has some amazing camera shots, like those scenes of the crows flying through the crowd in the opera house...great stuff. And a main reason why Argentos becoming one of my favorites.<br /><br />The acting from most of the cast was alright, but the best by far was Cristina Marsillach as the tortured young opera singer Betty. The looks in her eyes as the murders were being committed were great. The rest of the cast was a little wooden and stiff, but nothing that would deter your enjoyment of the film.<br /><br />There were very few things I didn't like about this movie. First off logic was thrown out the window in certain scenes. Specially those involving Bettys reactions after shes seen the murders. It seem to me that for the longest time, she just went on about her business, not telling anyone about the whole thing. Not even the police. I mean if you see someone brutally murder a loved one in front of your eyes...you don't just walk away from the murder scene and continue with your life. Someone would have connected her to the murders. She might have even become a suspect herself...but no. Also the ending is a bit anti climactic. You'll have to see this to understand, but it seemed a bit unnecessary the way the film ended, it felt like it could have ended earlier. It would not have felt so redundant. But thats about it, not real big problems for me really since I was enjoying the rest of this beautiful film.<br /><br />I've still got a lot of Argento territory to cover...but I'm devouring every step of the way like if I was eating a plate of the most expensive caviar. This guys really good. I think of his films as works of art, and I've only seen two of em! Cant wait to discover the rest of his films. Argento, you the man! <br /><br />Rating: 41/2 out of 5\n",
      "\n",
      "I think a lot of people just wrote this off as another one of Tom Cruise's weird movies (Magnolia, Eyes Wide Shut) but Vanilla Sky is definitely its own movie. Many people said it was weird; it wasn't. It was different and confusing but not weird. Weird is Stanley Kubrick or Pauly Shore. Different is The Truman Show. Confusing is The Matrix or The Game. And unlike Kubrick, this movie has a conclusion. Everything makes sense -- maybe not immediately, maybe not even today, but it will make sense. Vanilla Sky is confusing because David Aames (Tom Cruise) is confused. THAT'S the point. That's where the so-called \"weirdness\" that turned critics away came in. If they had bothered to \"open [their] eyes\" as the original 1997 Spanish movie, they would have seen that. And if that's not enough reason to see it, go see it for the music. Cameron Crowe offers a wonderful soundtrack; he uses it to set the \"feel\" -- that notorious element that many movies lack. With songs like The Beach Boys' \"Good Vibrations\" playing at the dramatic and emotional climax of the movie, he creates an offbeat, yet astoundingly \"right\" feel. A wonderful film, in its script, music, acting, and images, Vanilla Sky is sadly, a superficial bandwagon movie that critics chide in order to appear intelligent. Excellent: A+\n",
      "\n",
      "This is a story of two dogs and a cat looking for their way back home.Old and wise Golden Retriever Shadow, young American Bulldog Chance and Himalayan cat Sassy flee from the ranch and go into the wilderness to be reunited with their family.Homeward Bound: The Incredible Journey (1993) is a family adventure directed by Duwayne Dunham.It's a remake of a 1963 film.This movie got a sequel three years later.Michael J. Fox is the perfect man to do the voice-over for Chance.Fox has some youthful energy he brings to the role.Sally Field does great voice work as Sassy.Don Ameche is fantastic as Shadow.This was this veteran actor's second last movie.Also the visible actors are great.Kim Greist plays Laura Burnford-Seaver.Robert Hays is Bob Seaver.Benji Thall plays Peter Burnford.Veronica Lauren is Hope Burnford.Kevin Chevalia is Jamie Seaver.Jean Smart portrays Kate.It's quite amazing to watch these pets trying to survive in the wilderness.We see Sassy taken by the river and she seems like a goner.The bear scene is exiting and funny.Chance has no chance with that big, hungry bear.And his meeting with the porcupine looks painful.This is some great fun for the whole family.\n",
      "\n"
     ]
    }
   ],
   "source": [
    "    \n",
    "#     input_file = pd.read_csv(\"./Output_final5.txt\",encoding = \"UTF-8\", sep= '\\t',header=None)\n",
    "#     df = pd.DataFrame(input_file)\n",
    "#     df.head()\n",
    "input_file = 'Output_final5.txt'\n",
    "output_file = 'Output_finalAlpha3.txt'\n",
    "getStemmedDocument(input_file,output_file)\n",
    "    "
   ]
  },
  {
   "cell_type": "code",
   "execution_count": null,
   "metadata": {},
   "outputs": [],
   "source": []
  },
  {
   "cell_type": "code",
   "execution_count": null,
   "metadata": {},
   "outputs": [],
   "source": []
  },
  {
   "cell_type": "code",
   "execution_count": null,
   "metadata": {},
   "outputs": [],
   "source": []
  }
 ],
 "metadata": {
  "kernelspec": {
   "display_name": "Python 3",
   "language": "python",
   "name": "python3"
  },
  "language_info": {
   "codemirror_mode": {
    "name": "ipython",
    "version": 3
   },
   "file_extension": ".py",
   "mimetype": "text/x-python",
   "name": "python",
   "nbconvert_exporter": "python",
   "pygments_lexer": "ipython3",
   "version": "3.7.4"
  }
 },
 "nbformat": 4,
 "nbformat_minor": 2
}
