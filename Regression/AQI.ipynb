{
 "cells": [
  {
   "cell_type": "code",
   "execution_count": 42,
   "metadata": {},
   "outputs": [],
   "source": [
    "import pandas as pd\n",
    "import numpy as np\n",
    "import matplotlib.pyplot as plot\n"
   ]
  },
  {
   "cell_type": "code",
   "execution_count": 39,
   "metadata": {},
   "outputs": [
    {
     "name": "stdout",
     "output_type": "stream",
     "text": [
      "(1600, 6)\n",
      "(1600,)\n"
     ]
    }
   ],
   "source": [
    "X1 = pd.read_csv(\"../Train.csv\")\n",
    "X1 = X1.values\n",
    "\n",
    "X = X1[:,0:5]\n",
    "Y = X1[:,5]\n",
    "\n",
    "ones = np.ones((X.shape[0],1))\n",
    "X = np.hstack((ones,X))\n",
    "\n",
    "print(X.shape)\n",
    "print(Y.shape)\n",
    "\n",
    "df = pd.DataFrame(X1)\n",
    "df.head()\n",
    "\n",
    "\n",
    "def hypothesis(x,theta):\n",
    "    y_ = 0.0\n",
    "    n = x.shape[0]\n",
    "    for i in range (n):\n",
    "        y_ += (theta[i]* x[i])\n",
    "    return y_\n",
    "\n",
    "def error(X,y,theta):\n",
    "    error = 0.0\n",
    "    m = X.shape[0]\n",
    "    for i in range (m):\n",
    "        y_ = hypothesis(X[i],theta)\n",
    "        error += (y_ - y[i])**2\n",
    "    return error/m\n",
    "        \n",
    "\n",
    "def gradient(X,y,theta):\n",
    "    m,n = X.shape\n",
    "    grad = np.zeros((n,))\n",
    "    for j in range(n):\n",
    "        for i in range(m):\n",
    "                y_= hypothesis(X[i], theta)\n",
    "                grad[j] += (y_ - y[i])*X[i][j]\n",
    "    return grad/m  \n",
    "        \n",
    "def gradient_descent(X,y,learning_rate= 0.1,max = 300):\n",
    "    m,n = X.shape\n",
    "    theta = np.zeros((n,))\n",
    "    error_list = []\n",
    "    \n",
    "    for i in range (max):\n",
    "        e =  error(X,y,theta)\n",
    "        error_list.append(e)\n",
    "        grad = gradient(X,y,theta)\n",
    "        for j in range (n):\n",
    "            theta[j] = theta[j] - learning_rate*grad[j]\n",
    "            \n",
    "    return error_list,theta\n",
    "\n",
    "\n"
   ]
  },
  {
   "cell_type": "code",
   "execution_count": null,
   "metadata": {},
   "outputs": [],
   "source": [
    "error_list,theta = gradient_descent(X,Y)\n",
    "print(theta)\n",
    "print(X.shape)\n",
    "print(theta.shape)\n",
    "print(error_list)\n",
    "\n",
    "plot.show()\n"
   ]
  },
  {
   "cell_type": "code",
   "execution_count": 61,
   "metadata": {},
   "outputs": [
    {
     "name": "stdout",
     "output_type": "stream",
     "text": [
      "<class 'numpy.ndarray'>\n",
      "<class 'numpy.ndarray'>\n"
     ]
    }
   ],
   "source": [
    "y_ = []\n",
    "for i in range(X.shape[0]):\n",
    "    pred = hypothesis(X[i],theta)\n",
    "    y_.append(pred)\n",
    "y_ = np.array(y_)\n",
    "y  = np.array(Y)\n",
    "print(type(y_))\n",
    "print(type(y))"
   ]
  },
  {
   "cell_type": "code",
   "execution_count": 49,
   "metadata": {},
   "outputs": [],
   "source": [
    "def r2_score(Y,Y_):\n",
    "    num = np.sum((Y-Y_)**2)\n",
    "    denum = np.sum((Y-Y.mean())**2)\n",
    "    score = 1 - (num/denum)\n",
    "    return score*100"
   ]
  },
  {
   "cell_type": "code",
   "execution_count": 67,
   "metadata": {},
   "outputs": [
    {
     "name": "stdout",
     "output_type": "stream",
     "text": [
      "96.60939669975616\n",
      "(400, 5)\n",
      "(400, 6)\n"
     ]
    }
   ],
   "source": [
    "print(r2_score(y,y_))\n",
    "y_test = pd.read_csv(\"../Test.csv\")\n",
    "Y_Test = y_test.values\n",
    "print(Y_Test.shape)\n",
    "\n",
    "ones = np.ones((Y_Test.shape[0],1))\n",
    "Y_Test = np.hstack((ones,Y_Test))\n",
    "print(Y_Test.shape)\n",
    "\n",
    "# idx = []\n",
    "# for i in range(Y_Test.shape[0]):\n",
    "#     idx.append(i)\n",
    "\n",
    "\n",
    "y_res = []\n",
    "for i in range(Y_Test.shape[0]):\n",
    "    pred = hypothesis(Y_Test[i],theta)\n",
    "    y_res.append(pred)\n",
    "df = pd.DataFrame(data = y_res , columns = [\"target\"])\n",
    "df.to_csv('y_prediction2.csv', index = True)\n",
    "    \n"
   ]
  },
  {
   "cell_type": "code",
   "execution_count": null,
   "metadata": {},
   "outputs": [],
   "source": []
  }
 ],
 "metadata": {
  "kernelspec": {
   "display_name": "Python 3",
   "language": "python",
   "name": "python3"
  },
  "language_info": {
   "codemirror_mode": {
    "name": "ipython",
    "version": 3
   },
   "file_extension": ".py",
   "mimetype": "text/x-python",
   "name": "python",
   "nbconvert_exporter": "python",
   "pygments_lexer": "ipython3",
   "version": "3.7.4"
  }
 },
 "nbformat": 4,
 "nbformat_minor": 2
}
